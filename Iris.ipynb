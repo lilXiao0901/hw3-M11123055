{
 "cells": [
  {
   "cell_type": "code",
   "execution_count": 1,
   "id": "f961876c",
   "metadata": {},
   "outputs": [],
   "source": [
    "import matplotlib.pyplot as plt  \n",
    "import numpy as np \n",
    "from sklearn import datasets\n",
    "import time\n",
    "from sklearn import metrics\n",
    "import matplotlib as mpl\n",
    "import scipy.cluster.hierarchy as sch\n",
    "import matplotlib.pyplot as plt\n",
    "from sklearn import datasets\n",
    "from sklearn.cluster import DBSCAN"
   ]
  },
  {
   "cell_type": "code",
   "execution_count": 2,
   "id": "e1968491",
   "metadata": {},
   "outputs": [
    {
     "name": "stdout",
     "output_type": "stream",
     "text": [
      "(150, 4)\n"
     ]
    }
   ],
   "source": [
    "iris = datasets.load_iris() \n",
    "X = iris.data[:, :4]  \n",
    "Y = iris.target\n",
    "print(X.shape)"
   ]
  },
  {
   "cell_type": "code",
   "execution_count": 3,
   "id": "c440ad1c",
   "metadata": {},
   "outputs": [],
   "source": [
    "## 定義基本函數\n",
    "def get_HT(X,Y,label_pred,name='k_means'):\n",
    "    mpl.rcParams['font.sans-serif'] = ['SimHei']\n",
    "    mpl.rcParams['axes.unicode_minus'] = False \n",
    "    \n",
    "    x0 = X[label_pred == 0]\n",
    "    x1 = X[label_pred == 1]\n",
    "    x2 = X[label_pred == 2]\n",
    "    plt.scatter(x0[:, 0], x0[:, 1], c=\"red\", marker='o', label='簇1')  \n",
    "    plt.scatter(x1[:, 0], x1[:, 1], c=\"green\", marker='*', label='簇2')  \n",
    "    plt.scatter(x2[:, 0], x2[:, 1], c=\"blue\", marker='+', label='簇3')  \n",
    "    plt.xlabel('sepal length')  \n",
    "    plt.ylabel('sepal width')  \n",
    "    plt.legend(loc=2)  \n",
    "    plt.title(name + \"聚类结果\")\n",
    "    plt.show()\n",
    "    \n",
    "    sum = 0"
   ]
  },
  {
   "cell_type": "code",
   "execution_count": 4,
   "id": "bff00659",
   "metadata": {},
   "outputs": [],
   "source": [
    "from sklearn import metrics\n",
    "def purity_score(y_true, y_pred):\n",
    "    # compute contingency matrix (also called confusion matrix)\n",
    "    contingency_matrix = metrics.cluster.contingency_matrix(y_true, y_pred)\n",
    "    # return purity\n",
    "    return np.sum(np.amax(contingency_matrix, axis=0)) / np.sum(contingency_matrix) "
   ]
  },
  {
   "cell_type": "code",
   "execution_count": 5,
   "id": "889520fb",
   "metadata": {
    "scrolled": true
   },
   "outputs": [
    {
     "name": "stderr",
     "output_type": "stream",
     "text": [
      "findfont: Font family ['sans-serif'] not found. Falling back to DejaVu Sans.\n",
      "findfont: Generic family 'sans-serif' not found because none of the following families were found: SimHei\n",
      "c:\\Users\\d1032\\anaconda3\\lib\\site-packages\\IPython\\core\\pylabtools.py:151: UserWarning: Glyph 32858 (\\N{CJK UNIFIED IDEOGRAPH-805A}) missing from current font.\n",
      "  fig.canvas.print_figure(bytes_io, **kw)\n",
      "c:\\Users\\d1032\\anaconda3\\lib\\site-packages\\IPython\\core\\pylabtools.py:151: UserWarning: Glyph 31867 (\\N{CJK UNIFIED IDEOGRAPH-7C7B}) missing from current font.\n",
      "  fig.canvas.print_figure(bytes_io, **kw)\n",
      "c:\\Users\\d1032\\anaconda3\\lib\\site-packages\\IPython\\core\\pylabtools.py:151: UserWarning: Glyph 32467 (\\N{CJK UNIFIED IDEOGRAPH-7ED3}) missing from current font.\n",
      "  fig.canvas.print_figure(bytes_io, **kw)\n",
      "c:\\Users\\d1032\\anaconda3\\lib\\site-packages\\IPython\\core\\pylabtools.py:151: UserWarning: Glyph 26524 (\\N{CJK UNIFIED IDEOGRAPH-679C}) missing from current font.\n",
      "  fig.canvas.print_figure(bytes_io, **kw)\n",
      "findfont: Font family ['sans-serif'] not found. Falling back to DejaVu Sans.\n",
      "findfont: Generic family 'sans-serif' not found because none of the following families were found: SimHei\n"
     ]
    },
    {
     "name": "stdout",
     "output_type": "stream",
     "text": [
      "K-means分群時間: 0.051037399999998456 秒\n"
     ]
    },
    {
     "name": "stderr",
     "output_type": "stream",
     "text": [
      "c:\\Users\\d1032\\anaconda3\\lib\\site-packages\\IPython\\core\\pylabtools.py:151: UserWarning: Glyph 31751 (\\N{CJK UNIFIED IDEOGRAPH-7C07}) missing from current font.\n",
      "  fig.canvas.print_figure(bytes_io, **kw)\n"
     ]
    },
    {
     "data": {
      "image/png": "[encoded data removed]",
      "text/plain": [
       "<Figure size 432x288 with 1 Axes>"
      ]
     },
     "metadata": {
      "needs_background": "light"
     },
     "output_type": "display_data"
    },
    {
     "data": {
      "text/plain": [
       "0.8933333333333333"
      ]
     },
     "execution_count": 5,
     "metadata": {},
     "output_type": "execute_result"
    }
   ],
   "source": [
    "#Kmeans算法\n",
    "from sklearn.cluster import KMeans\n",
    "t1 = time.perf_counter()\n",
    "estimator = KMeans(n_clusters=3,max_iter = 200)  \n",
    "estimator.fit(X)  \n",
    "t2 = time.perf_counter()\n",
    "\n",
    "print(\"K-means分群時間:\", t2-t1, \"秒\")\n",
    "\n",
    "label_pred = estimator.labels_  \n",
    "get_HT(X,Y = Y,label_pred = label_pred,name = 'KMeans')\n",
    "\n",
    "purity_score(Y, label_pred)"
   ]
  },
  {
   "cell_type": "code",
   "execution_count": 6,
   "id": "a294039e",
   "metadata": {},
   "outputs": [],
   "source": [
    "iris=datasets.load_iris()\n",
    "X=iris.data\n",
    "X=X[:,2:4]"
   ]
  },
  {
   "cell_type": "code",
   "execution_count": 9,
   "id": "bf99ab12",
   "metadata": {},
   "outputs": [
    {
     "name": "stdout",
     "output_type": "stream",
     "text": [
      "階層式分群時間: 0.0007295999999996639 秒\n"
     ]
    },
    {
     "data": {
      "image/png": "[encoded data removed]",
      "text/plain": [
       "<Figure size 432x288 with 1 Axes>"
      ]
     },
     "metadata": {
      "needs_background": "light"
     },
     "output_type": "display_data"
    },
    {
     "data": {
      "text/plain": [
       "0.96"
      ]
     },
     "execution_count": 9,
     "metadata": {},
     "output_type": "execute_result"
    }
   ],
   "source": [
    "#階層式分群\n",
    "t1 = time.perf_counter()\n",
    "dis=sch.linkage(X,metric='euclidean',method='ward')\n",
    "clusters = sch.fcluster(dis, 3, criterion=\"maxclust\")\n",
    "t2 = time.perf_counter()\n",
    "\n",
    "print(\"階層式分群時間:\", t2-t1, \"秒\")\n",
    "\n",
    "sch.dendrogram(dis)\n",
    "plt.title('Hierarchical Clustering')\n",
    "plt.show()\n",
    "\n",
    "purity_score(Y, clusters)"
   ]
  },
  {
   "cell_type": "code",
   "execution_count": 10,
   "id": "6b37233f",
   "metadata": {},
   "outputs": [
    {
     "name": "stdout",
     "output_type": "stream",
     "text": [
      "BSCAN分群時間: 0.04369069999999908 秒\n"
     ]
    },
    {
     "data": {
      "image/png": "[encoded data removed]",
      "text/plain": [
       "<Figure size 432x288 with 1 Axes>"
      ]
     },
     "metadata": {
      "needs_background": "light"
     },
     "output_type": "display_data"
    }
   ],
   "source": [
    "t1 = time.perf_counter()\n",
    "clustering=DBSCAN(eps=0.3,min_samples=10).fit(X)\n",
    "plt.scatter(X[:,0],X[:,1],c=clustering.labels_)\n",
    "purity_score(Y, clustering.labels_)\n",
    "t2 = time.perf_counter()\n",
    "print(\"BSCAN分群時間:\", t2-t1, \"秒\")"
   ]
  },
  {
   "cell_type": "code",
   "execution_count": null,
   "id": "13c533fd",
   "metadata": {},
   "outputs": [],
   "source": []
  }
 ],
 "metadata": {
  "kernelspec": {
   "display_name": "base",
   "language": "python",
   "name": "python3"
  },
  "language_info": {
   "codemirror_mode": {
    "name": "ipython",
    "version": 3
   },
   "file_extension": ".py",
   "mimetype": "text/x-python",
   "name": "python",
   "nbconvert_exporter": "python",
   "pygments_lexer": "ipython3",
   "version": "3.9.12"
  },
  "vscode": {
   "interpreter": {
    "hash": "ee5d0290ad58308757ff9e045fe9bf2b958c18d275caad289e79a151579f58aa"
   }
  }
 },
 "nbformat": 4,
 "nbformat_minor": 5
}
